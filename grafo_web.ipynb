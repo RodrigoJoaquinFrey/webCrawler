{
 "cells": [
  {
   "cell_type": "code",
   "execution_count": 7,
   "metadata": {
    "vscode": {
     "languageId": "plaintext"
    }
   },
   "outputs": [],
   "source": [
    "from grafo_web import GrafoWeb\n",
    "from pagerank import guardar_pagerank_csv\n",
    "from scc import obtener_scc_kosaraju, exportar_scc_csv, graficar_scc\n",
    "from persistencia import guardar_grafo, cargar_grafo, guardar_scc, cargar_scc\n",
    "\n",
    "# Crear una instancia de GrafoWeb y cargar las aristas\n",
    "grafo = GrafoWeb()\n",
    "grafo.AgregarAristas('enlaces.csv', limite=1000)\n"
   ]
  },
  {
   "cell_type": "code",
   "execution_count": 8,
   "metadata": {},
   "outputs": [],
   "source": [
    "# Graficar el grafo web\n",
    "grafo.graficar()"
   ]
  },
  {
   "cell_type": "code",
   "execution_count": 9,
   "metadata": {},
   "outputs": [
    {
     "name": "stdout",
     "output_type": "stream",
     "text": [
      "Resultados de PageRank guardados en pagerank_resultados.csv\n"
     ]
    }
   ],
   "source": [
    "# Calcular y guardar PageRank\n",
    "guardar_pagerank_csv(grafo, \"pagerank_resultados.csv\")\n"
   ]
  },
  {
   "cell_type": "code",
   "execution_count": 10,
   "metadata": {},
   "outputs": [],
   "source": [
    "# Obtener y exportar SCC\n",
    "scc_resultados = obtener_scc_kosaraju(grafo)\n",
    "exportar_scc_csv(scc_resultados, \"scc_resultados.csv\")"
   ]
  },
  {
   "cell_type": "code",
   "execution_count": 11,
   "metadata": {},
   "outputs": [],
   "source": [
    "# Graficar SCC\n",
    "graficar_scc(grafo, scc_resultados)"
   ]
  },
  {
   "cell_type": "code",
   "execution_count": 12,
   "metadata": {},
   "outputs": [
    {
     "name": "stdout",
     "output_type": "stream",
     "text": [
      "Nodos guardados en nodos.csv\n",
      "Aristas guardadas en aristas.csv\n",
      "Nodos cargados desde nodos.csv\n",
      "Aristas cargadas desde aristas.csv\n",
      "SCC guardadas en scc_resultados.csv\n",
      "SCC cargadas desde scc_resultados.csv\n"
     ]
    }
   ],
   "source": [
    "# Guardar grafo\n",
    "guardar_grafo(grafo)\n",
    "# Cargar el grafo\n",
    "grafo_cargado = cargar_grafo(\"nodos.csv\", \"aristas.csv\")\n",
    "\n",
    "# Obtener SCC y guardar en CSV\n",
    "scc_resultados = obtener_scc_kosaraju(grafo)\n",
    "guardar_scc(scc_resultados)\n",
    "\n",
    "# Cargar SCC desde CSV\n",
    "scc_cargadas = cargar_scc()"
   ]
  },
  {
   "cell_type": "code",
   "execution_count": null,
   "metadata": {},
   "outputs": [],
   "source": []
  }
 ],
 "metadata": {
  "kernelspec": {
   "display_name": "Python 3 (ipykernel)",
   "language": "python",
   "name": "python3"
  },
  "language_info": {
   "codemirror_mode": {
    "name": "ipython",
    "version": 3
   },
   "file_extension": ".py",
   "mimetype": "text/x-python",
   "name": "python",
   "nbconvert_exporter": "python",
   "pygments_lexer": "ipython3",
   "version": "3.11.5"
  }
 },
 "nbformat": 4,
 "nbformat_minor": 4
}
